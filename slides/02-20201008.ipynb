{
 "cells": [
  {
   "cell_type": "markdown",
   "metadata": {
    "slideshow": {
     "slide_type": "slide"
    }
   },
   "source": [
    "# Chapter 1 - Unix\n",
    "\n",
    "![](img/terminal.png)"
   ]
  },
  {
   "cell_type": "markdown",
   "metadata": {
    "slideshow": {
     "slide_type": "slide"
    }
   },
   "source": [
    "![](img/legodog1.jpg)"
   ]
  },
  {
   "cell_type": "markdown",
   "metadata": {
    "slideshow": {
     "slide_type": "slide"
    }
   },
   "source": [
    "# Today\n",
    "- How did you manage with Chapter 1?\n",
    "- What was difficult?\n",
    "- How did you solve it?"
   ]
  },
  {
   "cell_type": "markdown",
   "metadata": {
    "slideshow": {
     "slide_type": "slide"
    }
   },
   "source": [
    "# Common issues when learning Unix\n",
    "\n",
    "1. Absolute or relative paths\n",
    "2. The root directory\n",
    "3. The `$PATH` variable\n",
    "4. File permissions\n",
    "5. Redirection and piping of STDIN, STDERR and STDOUT"
   ]
  },
  {
   "cell_type": "markdown",
   "metadata": {
    "slideshow": {
     "slide_type": "slide"
    }
   },
   "source": [
    "# Absolute or relative paths\n",
    "\n",
    "```\n",
    "cd /home/nylander/tmp\n",
    "cd tmp\n",
    "```"
   ]
  },
  {
   "cell_type": "markdown",
   "metadata": {
    "slideshow": {
     "slide_type": "slide"
    }
   },
   "source": [
    "# The root directory\n",
    "\n",
    "```\n",
    "cd tmp\n",
    "cd /tmp\n",
    "```"
   ]
  },
  {
   "cell_type": "markdown",
   "metadata": {
    "slideshow": {
     "slide_type": "slide"
    }
   },
   "source": [
    "# The `PATH` variable\n",
    "\n",
    "\"command not found\"\n",
    "\n",
    "```\n",
    "echo $PATH\n",
    "```"
   ]
  },
  {
   "cell_type": "markdown",
   "metadata": {
    "slideshow": {
     "slide_type": "slide"
    }
   },
   "source": [
    "# File permissions\n",
    "\n",
    "\"Permission denied\"\n",
    "\n",
    "```\n",
    "ls -l foo\n",
    "chmod +x foo\n",
    "ls -l foo\n",
    "```\n"
   ]
  },
  {
   "cell_type": "markdown",
   "metadata": {
    "slideshow": {
     "slide_type": "slide"
    }
   },
   "source": [
    "# Redirection and piping of STDIN, STDERR and STDOUT\n",
    "\n",
    "```\n",
    "program file > out.txt 2> log.txt\n",
    "```"
   ]
  },
  {
   "cell_type": "markdown",
   "metadata": {
    "slideshow": {
     "slide_type": "slide"
    }
   },
   "source": [
    "# Redirection and piping of STDIN, STDERR and STDOUT\n",
    "\n",
    "![](img/std1.png)"
   ]
  },
  {
   "cell_type": "markdown",
   "metadata": {
    "slideshow": {
     "slide_type": "slide"
    }
   },
   "source": [
    "# Redirection and piping of STDIN, STDERR and STDOUT\n",
    "\n",
    "![](img/std2.png)"
   ]
  },
  {
   "cell_type": "markdown",
   "metadata": {
    "slideshow": {
     "slide_type": "slide"
    }
   },
   "source": [
    "# Redirection and piping of STDIN, STDERR and STDOUT\n",
    "\n",
    "![](img/std3.png)"
   ]
  },
  {
   "cell_type": "markdown",
   "metadata": {
    "slideshow": {
     "slide_type": "slide"
    }
   },
   "source": [
    "# Redirection and piping of STDIN, STDERR and STDOUT\n",
    "\n",
    "```\n",
    "program file > stdout.txt 2> stderr.txt\n",
    "\n",
    "program file 1> stdout.txt 2> stderr.txt\n",
    "\n",
    "program < input > stdout.txt\n",
    "\n",
    "program1 file | program2 > out.txt\n",
    "```"
   ]
  },
  {
   "cell_type": "markdown",
   "metadata": {
    "slideshow": {
     "slide_type": "slide"
    }
   },
   "source": [
    "# Assignment for next occasion (Oct 15)\n",
    "\n",
    "- Chapter 2. Version control (using `git`)\n",
    "\n",
    "- **Exercises in** [notebooks/2-version-control.ipynb](https://github.com/Naturhistoriska/BIOinfo-course/blob/master/notebooks/2-version-control.ipynb)\n",
    "\n",
    "- **Use the Slack channels (<https://bioinfo-course-2020.slack.com>)!**\n"
   ]
  }
 ],
 "metadata": {
  "kernelspec": {
   "display_name": "Bash",
   "language": "bash",
   "name": "bash"
  },
  "language_info": {
   "codemirror_mode": "shell",
   "file_extension": ".sh",
   "mimetype": "text/x-sh",
   "name": "bash"
  }
 },
 "nbformat": 4,
 "nbformat_minor": 4
}
