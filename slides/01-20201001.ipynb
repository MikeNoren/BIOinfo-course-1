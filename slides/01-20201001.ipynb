{
 "cells": [
  {
   "cell_type": "markdown",
   "metadata": {
    "slideshow": {
     "slide_type": "slide"
    }
   },
   "source": [
    "# BIOinfo Literature Course 2020 - Welcome!\n",
    "\n",
    "![](img/welcome-slide.png)"
   ]
  },
  {
   "cell_type": "markdown",
   "metadata": {
    "slideshow": {
     "slide_type": "slide"
    }
   },
   "source": [
    "# Learning outcomes\n",
    "\n",
    "*Upon completion of the course, the participant will have training and good knowledge in important bioinformatic topics such as*\n",
    "\n",
    "- Working in a **Unix/Linux** environment\n",
    "\n",
    "- Use version control (**git**)\n",
    "\n",
    "- The **Python** programming language\n",
    "\n",
    "- Scientific typesetting (**LaTeX**)\n",
    "\n",
    "- The **R** programming language\n",
    "\n",
    "- Relational databases (**SQL**)"
   ]
  },
  {
   "cell_type": "markdown",
   "metadata": {
    "slideshow": {
     "slide_type": "slide"
    }
   },
   "source": [
    "# Building a computing toolbox\n",
    "\n",
    "![](img/family.jpg)"
   ]
  },
  {
   "cell_type": "markdown",
   "metadata": {
    "slideshow": {
     "slide_type": "slide"
    }
   },
   "source": [
    "# You just have to learn how to find the right pieces\n",
    "\n",
    "![](img/bigPileOfLego.jpg)"
   ]
  },
  {
   "cell_type": "markdown",
   "metadata": {
    "slideshow": {
     "slide_type": "slide"
    }
   },
   "source": [
    "# Eventually...\n",
    "\n",
    "![](img/legodog1.jpg)"
   ]
  },
  {
   "cell_type": "markdown",
   "metadata": {
    "slideshow": {
     "slide_type": "slide"
    }
   },
   "source": [
    "# Practice makes perfect!\n",
    "\n",
    "![](img/legodog3.jpg)"
   ]
  },
  {
   "cell_type": "markdown",
   "metadata": {
    "slideshow": {
     "slide_type": "slide"
    }
   },
   "source": [
    "# As long as it's a dog -- it's a dog!\n",
    "\n",
    "![](img/legodog2.jpg)"
   ]
  },
  {
   "cell_type": "markdown",
   "metadata": {
    "slideshow": {
     "slide_type": "slide"
    }
   },
   "source": [
    "# Reverse classroom\n",
    "\n",
    "- Learning by doing\n",
    "\n",
    "- No lectures(!)"
   ]
  },
  {
   "cell_type": "markdown",
   "metadata": {
    "slideshow": {
     "slide_type": "slide"
    }
   },
   "source": [
    "# Meetings\n",
    "\n",
    "- Discussion about preceeding chapter: Participants (You) contribute!\n",
    "\n",
    "- In principle, I will start by asking\n",
    "    - *How did you manage with Chapter X?*\n",
    "    - *What was difficult?*\n",
    "    - *How did you solve it?*"
   ]
  },
  {
   "cell_type": "markdown",
   "metadata": {
    "slideshow": {
     "slide_type": "slide"
    }
   },
   "source": [
    "# My role\n",
    "\n",
    "<div>\n",
    "<img src=\"img/kick.png\" width=\"500\"/>\n",
    "</div>\n"
   ]
  },
  {
   "cell_type": "markdown",
   "metadata": {
    "slideshow": {
     "slide_type": "slide"
    }
   },
   "source": [
    "# Need course credits?\n",
    "\n",
    "1. **Send me a message** (now) saying that you will need credits for this course\n",
    "\n",
    "2. No final exam or hand-in, so **requirement is that student have done the exercises**\n"
   ]
  },
  {
   "cell_type": "markdown",
   "metadata": {
    "slideshow": {
     "slide_type": "slide"
    }
   },
   "source": [
    "# The Toolbox\n",
    "\n",
    "1. **Working in a Unix/Linux environment**\n",
    "\n",
    "2. **Use version control (git)**\n",
    "\n",
    "3. **The Python programming language**\n",
    "\n",
    "4. Scientific typesetting (LaTeX)\n",
    "\n",
    "5. **The R programming language**\n",
    "\n",
    "6. Relational databases (SQL)"
   ]
  },
  {
   "cell_type": "markdown",
   "metadata": {
    "slideshow": {
     "slide_type": "slide"
    }
   },
   "source": [
    "# Time plan\n",
    "\n",
    "*We will continue until we run out of chapters, or students, whatever comes first.*\n",
    "\n",
    "| Date | Time | Venue | Topic | Chapter |\n",
    "| --- | --- | --- | --- | --- |\n",
    "| Oct 01 | 14:00--15:00 | NRM KÖL lunchroom + Zoom | Introduction | NA |\n",
    "| Oct 08 | 14:00--16:00 | NRM KÖL lunchroom + Zoom | Unix | 1 |\n",
    "| Oct 15 | 14:00--16:00 | NRM KÖL lunchroom + Zoom | Version control (git) | 2 |\n",
    "| **Oct 29** | 14:00--16:00 | NRM KÖL lunchroom + Zoom | Basic programming (Python) | 3 |\n",
    "| **Nov 12** | 14:00--16:00 | NRM KÖL lunchroom + Zoom | Writing good code (Python) | 4 |\n",
    "| Nov 19 | 14:00--16:00 | NRM KÖL lunchroom + Zoom | Regular expressions (Python) | 5 |\n",
    "| **Dec 03** | 14:00--16:00 | NRM KÖL lunchroom + Zoom | Scientific computing (Python) | 6 |\n",
    "| Dec 10 | 14:00--16:00 | NRM KÖL lunchroom + Zoom | Scientific typesetting (LaTeX) | 7 |\n",
    "| **?** | ? | ? + Zoom | Statistical computing (R) | 8 |\n",
    "| **?** | ? | ? + Zoom | Data wrangling and visualization (R) | 9 |\n",
    "| ? | ? | ? + Zoom | Relational data bases (SQL) | 10 |\n",
    "\n",
    "See [course web page](https://github.com/Naturhistoriska/BIOinfo-course#running-schedule-for-follow-up-meetings) for updates!"
   ]
  },
  {
   "cell_type": "markdown",
   "metadata": {
    "slideshow": {
     "slide_type": "slide"
    }
   },
   "source": [
    "# Course pages on the web\n",
    "\n",
    "- <https://github.com/Naturhistoriska/BIOinfo-course>\n",
    "\n",
    "- <https://bioinfo-course-2020.slack.com>\n",
    "\n",
    "\n",
    "**Note** The Slack channels will be the main source of information. E-mail only on exceptional occasions (having to cancel a session, etc)"
   ]
  },
  {
   "cell_type": "markdown",
   "metadata": {
    "slideshow": {
     "slide_type": "slide"
    }
   },
   "source": [
    "# Assignment for next occasion (Oct 8)\n",
    "\n",
    "- **Read and do Exercises in Chapter 1. Unix!**\n",
    "\n",
    "- Useful [Hints and Pseudocode files](https://github.com/Naturhistoriska/CSB/blob/0a760592138f9ab84a8a5d10076b4bf29f4417b0/unix/solutions/Marra2014_pseudo.md)\n"
   ]
  },
  {
   "cell_type": "markdown",
   "metadata": {
    "slideshow": {
     "slide_type": "slide"
    }
   },
   "source": [
    "# Help each other\n",
    "\n",
    "- **Use the Slack channels (<https://bioinfo-course-2020.slack.com>)!**\n",
    "\n",
    "- Watch out for Slack polls\n",
    "\n",
    "![](img/polls-on-slack.png)"
   ]
  },
  {
   "cell_type": "markdown",
   "metadata": {
    "slideshow": {
     "slide_type": "slide"
    }
   },
   "source": [
    "# Computers and Software: All set?\n",
    "\n",
    "Chapter-specific instructions here: <https://computingskillsforbiologists.com/setup/>"
   ]
  }
 ],
 "metadata": {
  "kernelspec": {
   "display_name": "Bash",
   "language": "bash",
   "name": "bash"
  },
  "language_info": {
   "codemirror_mode": "shell",
   "file_extension": ".sh",
   "mimetype": "text/x-sh",
   "name": "bash"
  }
 },
 "nbformat": 4,
 "nbformat_minor": 4
}
