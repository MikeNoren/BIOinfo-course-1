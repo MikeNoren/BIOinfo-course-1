{
 "cells": [
  {
   "cell_type": "markdown",
   "metadata": {
    "slideshow": {
     "slide_type": "slide"
    }
   },
   "source": [
    "# Chapter 2 - Version control\n",
    "\n",
    "![](img/git.png)"
   ]
  },
  {
   "cell_type": "markdown",
   "metadata": {
    "slideshow": {
     "slide_type": "slide"
    }
   },
   "source": [
    "# Exercises on line\n",
    "\n",
    "- **Exercises in** [notebooks/2-version-control.ipynb](https://github.com/Naturhistoriska/BIOinfo-course/blob/master/notebooks/2-version-control.ipynb)\n"
   ]
  },
  {
   "cell_type": "markdown",
   "metadata": {
    "slideshow": {
     "slide_type": "slide"
    }
   },
   "source": [
    "# Today\n",
    "- How did you manage with Chapter 2?\n",
    "- What was difficult?\n",
    "- How did you solve it?"
   ]
  },
  {
   "cell_type": "markdown",
   "metadata": {
    "slideshow": {
     "slide_type": "slide"
    }
   },
   "source": [
    "# Assignment for next occasion (Oct 29)\n",
    "\n",
    "- Chapter 3. Basic programming (Python)\n",
    "\n",
    "- \"Jupyter notebooks\" (look at [notebooks/First_notebook.ipynb](https://github.com/Naturhistoriska/BIOinfo-course/blob/master/notebooks/First_notebook.ipynb))\n",
    "\n",
    "- **Use the Slack channels (<https://bioinfo-course-2020.slack.com>)!**\n"
   ]
  }
 ],
 "metadata": {
  "kernelspec": {
   "display_name": "Bash",
   "language": "bash",
   "name": "bash"
  },
  "language_info": {
   "codemirror_mode": "shell",
   "file_extension": ".sh",
   "mimetype": "text/x-sh",
   "name": "bash"
  }
 },
 "nbformat": 4,
 "nbformat_minor": 4
}
