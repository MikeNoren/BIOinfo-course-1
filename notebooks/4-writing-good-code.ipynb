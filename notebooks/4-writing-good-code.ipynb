{
 "cells": [
  {
   "cell_type": "markdown",
   "metadata": {},
   "source": [
    "# Exercises Chapter 4 Writing Good Code"
   ]
  },
  {
   "cell_type": "markdown",
   "metadata": {},
   "source": [
    "## [4.10.1 Assortative Mating in Animals (p. 161)](sandbox/Jiang2013_solution.ipynb)"
   ]
  },
  {
   "cell_type": "markdown",
   "metadata": {},
   "source": [
    "### 1. Write a function that takes as input the desired `Taxon`, and returns the mean value of `r`"
   ]
  },
  {
   "cell_type": "code",
   "execution_count": null,
   "metadata": {},
   "outputs": [],
   "source": []
  },
  {
   "cell_type": "markdown",
   "metadata": {},
   "source": [
    "You should see that fish have a positive value of `r`, but that this is also true for other taxa. Is the mean value of r especially high for fish? To test this, \n",
    "\n",
    "### 2. compute a p-value by repeatedly sampling 37 values of `r` at random (37 experiments on fish are reported in the database), and calculating the probability of observing a higher mean value of `r`.\n",
    "\n",
    "To get an accurate estimate of the p-value, use 50,000 randomizations."
   ]
  },
  {
   "cell_type": "code",
   "execution_count": null,
   "metadata": {},
   "outputs": [],
   "source": []
  },
  {
   "cell_type": "markdown",
   "metadata": {},
   "source": [
    "### 3. Repeat the procedure for all taxa."
   ]
  },
  {
   "cell_type": "code",
   "execution_count": null,
   "metadata": {},
   "outputs": [],
   "source": []
  },
  {
   "cell_type": "markdown",
   "metadata": {},
   "source": [
    "## [4.10.2 Human Intestinal Ecosystem (p. 162)](sandbox/Lahti2014_solution.ipynb) ([detailed solution](sandbox/Lahti2014_solution_detailed.ipynb))"
   ]
  },
  {
   "cell_type": "markdown",
   "metadata": {},
   "source": [
    "### 1. Write a function that takes as input a dictionary of constraints (i.e., selecting a specific group of records) and returns a dictionary tabulating the BMI group for all the records matching the constraints.\n",
    "For example, calling\n",
    "```\n",
    "get_BMI_count({'Age': '28', 'Sex': 'female'})\n",
    "\n",
    "```\n",
    "should return\n",
    "```\n",
    "{'NA': 3, 'lean': 8, 'overweight': 2, 'underweight': 1}\n",
    "```"
   ]
  },
  {
   "cell_type": "code",
   "execution_count": null,
   "metadata": {},
   "outputs": [],
   "source": []
  },
  {
   "cell_type": "markdown",
   "metadata": {},
   "source": [
    "### 2. Write a function that takes as input the constraints (as above), and a bacterial \"genus\". The function returns the average abundance (in logarithm base 10) of the genus for each group of BMI in the sub-population.\n",
    "For example, calling:\n",
    "```\n",
    "get_abundance_by_BMI({'Time': '0', 'Nationality': 'US'}, 'Clostridium difficile et rel.')\n",
    "```\n",
    "\n",
    "should return:\n",
    "\n",
    "```\n",
    "____________________________________________________________________\n",
    "Abundance of Clostridium difficile et rel. In sub-population:\n",
    "____________________________________________________________________\n",
    "Nationality -> US\n",
    "Time -> 0\n",
    "____________________________________________________________________\n",
    "3.08      NA\n",
    "3.31      underweight\n",
    "3.84      lean\n",
    "2.89      overweight\n",
    "3.31      obese\n",
    "3.45      severeobese\n",
    "____________________________________________________________________\n",
    "```"
   ]
  },
  {
   "cell_type": "code",
   "execution_count": null,
   "metadata": {},
   "outputs": [],
   "source": []
  },
  {
   "cell_type": "markdown",
   "metadata": {},
   "source": [
    "### 3. Repeat this analysis for all genera, and for the records having `Time = 0`"
   ]
  },
  {
   "cell_type": "code",
   "execution_count": null,
   "metadata": {},
   "outputs": [],
   "source": []
  }
 ],
 "metadata": {
  "kernelspec": {
   "display_name": "Python 3",
   "language": "python",
   "name": "python3"
  },
  "language_info": {
   "codemirror_mode": {
    "name": "ipython",
    "version": 3
   },
   "file_extension": ".py",
   "mimetype": "text/x-python",
   "name": "python",
   "nbconvert_exporter": "python",
   "pygments_lexer": "ipython3",
   "version": "3.8.2"
  }
 },
 "nbformat": 4,
 "nbformat_minor": 4
}
