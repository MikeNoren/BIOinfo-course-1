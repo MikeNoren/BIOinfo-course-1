{
 "cells": [
  {
   "cell_type": "markdown",
   "metadata": {},
   "source": [
    "# Exercises Chapter 5 Regular Expressions"
   ]
  },
  {
   "cell_type": "markdown",
   "metadata": {},
   "source": [
    "## [5.9.1 Bee Checklist (p. 182)](sandbox/BeeChecklist_solution.ipynb)"
   ]
  },
  {
   "cell_type": "markdown",
   "metadata": {},
   "source": [
    "### 1.  What is the name of the author with most entries in the database?"
   ]
  },
  {
   "cell_type": "code",
   "execution_count": null,
   "metadata": {},
   "outputs": [],
   "source": []
  },
  {
   "cell_type": "markdown",
   "metadata": {},
   "source": [
    "### 2. Which year of publication is most represented in the database?"
   ]
  },
  {
   "cell_type": "code",
   "execution_count": null,
   "metadata": {},
   "outputs": [],
   "source": []
  },
  {
   "cell_type": "markdown",
   "metadata": {},
   "source": [
    "## [5.9.2 A Map of Science (p. 182)](sandbox/MapOfScience_solution.ipynb)"
   ]
  },
  {
   "cell_type": "markdown",
   "metadata": {},
   "source": [
    "### 1. Read the file pubmed_results.txt, and extract all the US ZIP codes."
   ]
  },
  {
   "cell_type": "code",
   "execution_count": null,
   "metadata": {},
   "outputs": [],
   "source": []
  },
  {
   "cell_type": "markdown",
   "metadata": {},
   "source": [
    "### 2. Create the lists `zip_code`, containing the ZIP codes, `zip_long`, `zip_lat`, and `zip_count`, containing the unique ZIP codes, their longitude, latitude, and count (number of occurrences in Science), respectively"
   ]
  },
  {
   "cell_type": "code",
   "execution_count": null,
   "metadata": {},
   "outputs": [],
   "source": []
  },
  {
   "cell_type": "markdown",
   "metadata": {},
   "source": [
    "### 3. To visualize the data you’ve generated, use the following code"
   ]
  },
  {
   "cell_type": "code",
   "execution_count": null,
   "metadata": {},
   "outputs": [],
   "source": [
    "import matplotlib.pyplot as plt\n",
    "\n",
    "# let plots be produced within the IPython notebook\n",
    "%matplotlib inline\n",
    "\n",
    "# create a scatter plot\n",
    "plt.scatter(zip_long, zip_lat, s = zip_count, c = zip_count)\n",
    "plt.colorbar()\n",
    "\n",
    "# only continental US without Alaska\n",
    "plt.xlim(-125,-65)\n",
    "plt.ylim(23, 50)\n",
    "\n",
    "# add a few cities for reference (optional)\n",
    "ard = dict(arrowstyle=\"->\")\n",
    "plt.annotate(\"Los Angeles\", xy = (-118.25, 34.05),\n",
    "xytext = (-108.25, 34.05), arrowprops = ard)\n",
    "plt.annotate(\"Palo Alto\", xy = (-122.1381, 37.4292),\n",
    "xytext = (-112.1381, 37.4292), arrowprops= ard)\n",
    "plt.annotate(\"Cambridge\", xy = (-71.1106, 42.3736),\n",
    "xytext = (-73.1106, 48.3736), arrowprops= ard)\n",
    "plt.annotate(\"Chicago\", xy = (-87.6847, 41.8369),\n",
    "xytext = (-87.6847, 46.8369), arrowprops= ard)\n",
    "plt.annotate(\"Seattle\", xy = (-122.33, 47.61),\n",
    "xytext = (-116.33, 47.61), arrowprops= ard)"
   ]
  },
  {
   "cell_type": "code",
   "execution_count": null,
   "metadata": {},
   "outputs": [],
   "source": []
  }
 ],
 "metadata": {
  "kernelspec": {
   "display_name": "Python 3",
   "language": "python",
   "name": "python3"
  },
  "language_info": {
   "codemirror_mode": {
    "name": "ipython",
    "version": 3
   },
   "file_extension": ".py",
   "mimetype": "text/x-python",
   "name": "python",
   "nbconvert_exporter": "python",
   "pygments_lexer": "ipython3",
   "version": "3.8.2"
  }
 },
 "nbformat": 4,
 "nbformat_minor": 4
}
