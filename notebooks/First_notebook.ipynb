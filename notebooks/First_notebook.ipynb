{
 "cells": [
  {
   "cell_type": "markdown",
   "metadata": {},
   "source": [
    "# BIOinfo-course 2020\n",
    "\n",
    "- Last modified: ons sep 09, 2020  06:35\n",
    "- Sign: JN\n",
    "\n",
    "## Description\n",
    "\n",
    "This is the first jupyter notebook for the literature course in [Bioinformatics for Biologists at NRM](https://github.com/Naturhistoriska/BIOinfo-course) given in the fall 2020.\n",
    "\n",
    "This first section was written in **markdown**."
   ]
  },
  {
   "cell_type": "code",
   "execution_count": null,
   "metadata": {},
   "outputs": [],
   "source": [
    "!echo \"\\\"Hello World!\\\" says bash\""
   ]
  },
  {
   "cell_type": "code",
   "execution_count": null,
   "metadata": {},
   "outputs": [],
   "source": [
    "print(\"\\\"Hello World!\\\" says Python\")"
   ]
  }
 ],
 "metadata": {
  "kernelspec": {
   "display_name": "Python 3",
   "language": "python",
   "name": "python3"
  },
  "language_info": {
   "codemirror_mode": {
    "name": "ipython",
    "version": 3
   },
   "file_extension": ".py",
   "mimetype": "text/x-python",
   "name": "python",
   "nbconvert_exporter": "python",
   "pygments_lexer": "ipython3",
   "version": "3.8.2"
  }
 },
 "nbformat": 4,
 "nbformat_minor": 4
}
