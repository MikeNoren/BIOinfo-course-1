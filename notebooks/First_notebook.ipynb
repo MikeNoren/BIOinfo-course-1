{
 "cells": [
  {
   "cell_type": "markdown",
   "metadata": {},
   "source": [
    "# BIOinfo-course 2020\n",
    "\n",
    "- Last modified: ons sep 11, 2020  18:04\n",
    "- Sign: JN\n",
    "\n",
    "## Description\n",
    "\n",
    "This is an example of a jupyter notebook for the literature course in [Bioinformatics for Biologists at NRM](https://github.com/Naturhistoriska/BIOinfo-course).\n",
    "\n",
    "This first section was written in **markdown**. This link will provide an overview of the basic syntax: []https://github.com/adam-p/markdown-here/wiki/Markdown-Cheatsheet(https://github.com/adam-p/markdown-here/wiki/Markdown-Cheatsheet)\n",
    "\n",
    "The two blocks below show how to execute code. All note bokks will have a \"kernel\" that will execute the code. If the code is mainly written in Python, one choses the Python 3 kernel (as for this notebook). Note that we still can ask for commands executed by the shell by prepending them with an exclamation mark (`!`).\n"
   ]
  },
  {
   "cell_type": "code",
   "execution_count": null,
   "metadata": {},
   "outputs": [],
   "source": [
    "!echo \"\\\"Hello World!\\\" says bash\""
   ]
  },
  {
   "cell_type": "code",
   "execution_count": null,
   "metadata": {},
   "outputs": [],
   "source": [
    "print(\"\\\"Hello World!\\\" says Python\")"
   ]
  }
 ],
 "metadata": {
  "kernelspec": {
   "display_name": "Python 3",
   "language": "python",
   "name": "python3"
  },
  "language_info": {
   "codemirror_mode": {
    "name": "ipython",
    "version": 3
   },
   "file_extension": ".py",
   "mimetype": "text/x-python",
   "name": "python",
   "nbconvert_exporter": "python",
   "pygments_lexer": "ipython3",
   "version": "3.8.2"
  }
 },
 "nbformat": 4,
 "nbformat_minor": 4
}
