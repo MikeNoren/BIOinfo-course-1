{
 "cells": [
  {
   "cell_type": "markdown",
   "metadata": {},
   "source": [
    "# Exercises Version control"
   ]
  },
  {
   "cell_type": "markdown",
   "metadata": {},
   "source": [
    "We have access to two versions of the CSB repository\n",
    "\n",
    "1. The first is the original version from the publisher (last updated 2 years ago): [https://github.com/CSB-Book/CSB](https://github.com/CSB-Book/CSB), which you cloned at the beginning of the course ([https://computingskillsforbiologists.com/setup/](https://computingskillsforbiologists.com/setup/)).\n",
    "\n",
    "2. The second is an NRM copy, wich is a [fork](https://docs.github.com/en/github/getting-started-with-github/github-glossary#fork) or the original, with som additions/corrections (and probably more to come): [https://github.com/Naturhistoriska/CSB](https://github.com/Naturhistoriska/CSB).\n",
    "\n",
    "The second version also comes as a [submodule](https://git-scm.com/book/en/v2/Git-Tools-Submodules) with the course web page repository: [https://github.com/Naturhistoriska/BIOinfo-course](https://github.com/Naturhistoriska/BIOinfo-course)"
   ]
  },
  {
   "cell_type": "markdown",
   "metadata": {},
   "source": [
    "## Tasks:"
   ]
  },
  {
   "cell_type": "markdown",
   "metadata": {},
   "source": [
    "### 1. If you haven't done it already, create a recursive clone of the BIOinfo-course page ([https://github.com/Naturhistoriska/BIOinfo-course](https://github.com/Naturhistoriska/BIOinfo-course))"
   ]
  },
  {
   "cell_type": "code",
   "execution_count": null,
   "metadata": {},
   "outputs": [],
   "source": [
    "git clone --recurse-submodules https://github.com/Naturhistoriska/BIOinfo-course.git"
   ]
  },
  {
   "cell_type": "markdown",
   "metadata": {},
   "source": [
    "### 2. Create a Personal Account on [GitHub](https://github.com/)"
   ]
  },
  {
   "cell_type": "code",
   "execution_count": null,
   "metadata": {},
   "outputs": [],
   "source": []
  },
  {
   "cell_type": "markdown",
   "metadata": {},
   "source": [
    "### 3. Create your own personal copy of the CSB repository on your GitHub page\n",
    "\n",
    "This version will act as your remote source, and where you will remotely save any changes that you make during the course. The repository can be made either public (default) or private.\n",
    "\n",
    "Any of the sources you have at hand may act as the start for \"your\" CSB version. I recommend, however, to always keep an eye on the NRM-version to keep track of changes that may come.\n",
    "\n",
    "Depending on which version you will start with, the procedures differ somewhat for how to \"get a CSB copy on to GitHub\". To start fresh, you may choose to fork and then clone. Or if you already downloaded a version you wish to use, you may point the \"remote\" to your account on GitHub and then push. Or start over at your account at GitHub, create a new repository (doesn't have to be named CSB), and then add all files there. The choice is yours."
   ]
  },
  {
   "cell_type": "markdown",
   "metadata": {},
   "source": []
  }
 ],
 "metadata": {
  "kernelspec": {
   "display_name": "Bash",
   "language": "bash",
   "name": "bash"
  },
  "language_info": {
   "codemirror_mode": "shell",
   "file_extension": ".sh",
   "mimetype": "text/x-sh",
   "name": "bash"
  }
 },
 "nbformat": 4,
 "nbformat_minor": 4
}
